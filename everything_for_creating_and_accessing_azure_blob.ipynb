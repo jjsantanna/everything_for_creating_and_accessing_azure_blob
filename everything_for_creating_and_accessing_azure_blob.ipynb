{
 "cells": [
  {
   "cell_type": "markdown",
   "id": "d34b2745",
   "metadata": {},
   "source": [
    "# Every step needed to create and access an azure blog storage\n",
    "\n",
    "1. Sign-in \n",
    "2. Creating the resource group\n",
    "3. Creating the storage account\n",
    "4. Getting the storage key\n",
    "5. Creating storage container\n",
    "6. Uploading file == Creating a blob \n",
    "7. Accessing a blob/file"
   ]
  },
  {
   "cell_type": "code",
   "execution_count": null,
   "id": "437aee4e",
   "metadata": {},
   "outputs": [],
   "source": [
    "RESOURCEGROUP = 'jair'\n",
    "STORAGEACCOUNTNAME = 'storagejair'\n",
    "CONTAINERNAME = 'containerjair'\n",
    "FILENAME = 'jairfile.csv'"
   ]
  },
  {
   "cell_type": "markdown",
   "id": "050f7abf",
   "metadata": {},
   "source": [
    "Installing and configuring the azure-cli library for the first time (on MacOS). Choose .json as output!!"
   ]
  },
  {
   "cell_type": "code",
   "execution_count": null,
   "id": "32c7e539",
   "metadata": {},
   "outputs": [],
   "source": [
    "!pip install azure-cli\n",
    "!pip install applescript # used just to open a terminal and issue the 'az configure' command\n",
    "\n",
    "from applescript import tell\n",
    "tell.app( 'Terminal', 'do script \"az configure\"') "
   ]
  },
  {
   "cell_type": "markdown",
   "id": "a79d13f4",
   "metadata": {},
   "source": [
    "## 1. Sign-in in the target Azure tenant/subscription"
   ]
  },
  {
   "cell_type": "code",
   "execution_count": null,
   "id": "6d85c05b",
   "metadata": {},
   "outputs": [],
   "source": [
    "!az login"
   ]
  },
  {
   "cell_type": "markdown",
   "id": "5345178f",
   "metadata": {},
   "source": [
    "## 2. Creating a new resource group to hold the storage account (if using an existing resource group, skip this step)"
   ]
  },
  {
   "cell_type": "code",
   "execution_count": null,
   "id": "15555b16",
   "metadata": {},
   "outputs": [],
   "source": [
    "!az group create --name $RESOURCEGROUP --location westeurope"
   ]
  },
  {
   "cell_type": "markdown",
   "id": "624085c0",
   "metadata": {},
   "source": [
    "## 3. Creating the storage account"
   ]
  },
  {
   "cell_type": "code",
   "execution_count": null,
   "id": "cfc7b26f",
   "metadata": {},
   "outputs": [],
   "source": [
    "!az storage account create -n $STORAGEACCOUNTNAME -g $RESOURCEGROUP"
   ]
  },
  {
   "cell_type": "markdown",
   "id": "b42e60a8",
   "metadata": {},
   "source": [
    "## 4. Retrieving the storage key of the storage account"
   ]
  },
  {
   "cell_type": "code",
   "execution_count": null,
   "id": "7b085fac",
   "metadata": {},
   "outputs": [],
   "source": [
    "keys = !az storage account keys list -g $RESOURCEGROUP -n $STORAGEACCOUNTNAME\n",
    "# This next step should/could be improved!\n",
    "STORAGEKEY = keys[5].replace('\"',\"\").replace(\"    value: \",\"\")"
   ]
  },
  {
   "cell_type": "markdown",
   "id": "cef9ad82",
   "metadata": {},
   "source": [
    "## 5. Creating a storage container"
   ]
  },
  {
   "cell_type": "code",
   "execution_count": null,
   "id": "7e4f1b78",
   "metadata": {},
   "outputs": [],
   "source": [
    "!az storage container create --account-name $STORAGEACCOUNTNAME --name $CONTAINERNAME --account-key $STORAGEKEY"
   ]
  },
  {
   "cell_type": "markdown",
   "id": "1dd960e9",
   "metadata": {},
   "source": [
    "## 6. Uploading a file/blob"
   ]
  },
  {
   "cell_type": "code",
   "execution_count": null,
   "id": "b7a13682",
   "metadata": {},
   "outputs": [],
   "source": [
    "!az storage blob upload --account-name $STORAGEACCOUNTNAME --container-name $CONTAINERNAME --name $FILENAME --file $FILENAME --account-key $STORAGEKEY"
   ]
  },
  {
   "cell_type": "markdown",
   "id": "298195aa",
   "metadata": {},
   "source": [
    "## 7. Assessing an Azure Blog Storage via \"storage URL\" and \"storage account key\""
   ]
  },
  {
   "cell_type": "markdown",
   "id": "ce2c3888",
   "metadata": {},
   "source": [
    "There are two ways to access/download a file from Azure Blob Storage:\n",
    "1. Via storage URL and storage account key\n",
    "2. Via shared access signature (SAS) create directly in the blob"
   ]
  },
  {
   "cell_type": "markdown",
   "id": "19f4a524",
   "metadata": {},
   "source": [
    "### 7.1. Assessing an Azure Blog Storage via \"storage URL\" and \"storage account key\""
   ]
  },
  {
   "cell_type": "code",
   "execution_count": null,
   "id": "bcdfbfc7",
   "metadata": {},
   "outputs": [],
   "source": [
    "# at \"endpoint\" menu. ATTENTION: without \"/\" at the end of the url\n",
    "STORAGEACCOUNTURL = \"https://\"+STORAGEACCOUNTNAME+\".blob.core.windows.net\"\n",
    "# at \"access key\" menu\n",
    "STORAGEACCOUNTKEY = STORAGEKEY\n",
    "#\n",
    "CONTAINERNAME = CONTAINERNAME\n",
    "BLOBNAME = FILENAME"
   ]
  },
  {
   "cell_type": "code",
   "execution_count": null,
   "id": "f05f73a1",
   "metadata": {},
   "outputs": [],
   "source": [
    "# More info at: https://docs.microsoft.com/en-us/azure/architecture/data-science-process/explore-data-blob\n",
    "!pip install azure-storage-blob\n",
    "from azure.storage.blob import BlobServiceClient\n",
    "import pandas as pd\n",
    "\n",
    "blob_service_client_instance = BlobServiceClient(account_url=STORAGEACCOUNTURL, credential=STORAGEACCOUNTKEY)\n",
    "blob_client_instance = blob_service_client_instance.get_blob_client(CONTAINERNAME, BLOBNAME, snapshot=None)\n",
    "blob_data = blob_client_instance.download_blob()\n",
    "#\n",
    "LOCALFILENAME = BLOBNAME\n",
    "with open(LOCALFILENAME, \"wb\") as my_blob:\n",
    "    blob_data = blob_client_instance.download_blob()\n",
    "    blob_data.readinto(my_blob)"
   ]
  },
  {
   "cell_type": "code",
   "execution_count": null,
   "id": "d7690386",
   "metadata": {},
   "outputs": [],
   "source": [
    "df = pd.read_csv(LOCALFILENAME)"
   ]
  },
  {
   "cell_type": "markdown",
   "id": "6a007643",
   "metadata": {},
   "source": [
    "### 7.2. Assessing an Azure Blob Storage via SAS"
   ]
  },
  {
   "cell_type": "code",
   "execution_count": null,
   "id": "fc9b7966",
   "metadata": {},
   "outputs": [],
   "source": [
    "SAS_URL = ''"
   ]
  },
  {
   "cell_type": "code",
   "execution_count": null,
   "id": "d0dec2f5",
   "metadata": {},
   "outputs": [],
   "source": [
    "df = pd.read_json(LOCALFILENAME)"
   ]
  }
 ],
 "metadata": {
  "kernelspec": {
   "display_name": "Python 3",
   "language": "python",
   "name": "python3"
  },
  "language_info": {
   "codemirror_mode": {
    "name": "ipython",
    "version": 3
   },
   "file_extension": ".py",
   "mimetype": "text/x-python",
   "name": "python",
   "nbconvert_exporter": "python",
   "pygments_lexer": "ipython3",
   "version": "3.9.12"
  }
 },
 "nbformat": 4,
 "nbformat_minor": 5
}
